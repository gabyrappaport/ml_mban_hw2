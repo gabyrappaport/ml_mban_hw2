{
 "cells": [
  {
   "cell_type": "code",
   "execution_count": 96,
   "metadata": {},
   "outputs": [],
   "source": [
    "using JuMP, Gurobi, DataFrames, CSV, Random, LinearAlgebra, PyPlot, Dates, Statistics"
   ]
  },
  {
   "cell_type": "code",
   "execution_count": 126,
   "metadata": {},
   "outputs": [
    {
     "name": "stdout",
     "output_type": "stream",
     "text": [
      "Academic license - for non-commercial use only\n"
     ]
    },
    {
     "data": {
      "text/plain": [
       "Gurobi.Env(Ptr{Nothing} @0x00007ff0c089d800)"
      ]
     },
     "execution_count": 126,
     "metadata": {},
     "output_type": "execute_result"
    }
   ],
   "source": [
    "gurobi_env = Gurobi.Env()"
   ]
  },
  {
   "cell_type": "markdown",
   "metadata": {},
   "source": [
    "This function is a helper function to compute the g(z)"
   ]
  },
  {
   "cell_type": "code",
   "execution_count": 130,
   "metadata": {},
   "outputs": [
    {
     "data": {
      "text/plain": [
       "g (generic function with 1 method)"
      ]
     },
     "execution_count": 130,
     "metadata": {},
     "output_type": "execute_result"
    }
   ],
   "source": [
    "function g(y, X, z, λ)\n",
    "    model = Model(solver = GurobiSolver(TimeLimit = 60, OutputFlag = 0, gurobi_env))\n",
    "    \n",
    "    @variable(model, μ[1:n, 1:n] >= 0 )\n",
    "    \n",
    "    @objective(model, Max, \n",
    "        -1/2 * sum((y[i] + sum(μ[j, i] for j=1:n) + sum(μ[i, j] for j=1:n))^2 for i=1:n)\n",
    "        - 1/(2*λ) * sum(sum(z[l]*(sum(μ[i, j]*(X[j, l] - X[i, l]) for j=1:n))^2 for l=1:d) for i = 1:n))\n",
    "    \n",
    "    sol = solve(model)\n",
    "    return (getobjectivevalue(model), getvalue(μ))\n",
    "    \n",
    "end"
   ]
  },
  {
   "cell_type": "markdown",
   "metadata": {},
   "source": [
    "This function is a helper function to compute the subgradient of g"
   ]
  },
  {
   "cell_type": "code",
   "execution_count": 124,
   "metadata": {},
   "outputs": [
    {
     "data": {
      "text/plain": [
       "subgradient_g (generic function with 1 method)"
      ]
     },
     "execution_count": 124,
     "metadata": {},
     "output_type": "execute_result"
    }
   ],
   "source": [
    "function subgradient_g(y, X, z, λ)\n",
    "    obj, μ = g(y, X, z, λ)\n",
    "    n,d = size(X)\n",
    "    subdradient = zeros(d)\n",
    "    for p in 1:d\n",
    "        outer_sum = 0\n",
    "        inner_sum = zeros(n)\n",
    "        for i in 1:n\n",
    "            for j in 1:n\n",
    "                inner_sum[i] += μ[i, j]*(X[i,p] - X[j, p])\n",
    "            end\n",
    "            outer_sum += inner_sum[i]^2\n",
    "            subdradient[p] = -1/(2*λ) * outer_sum\n",
    "        end\n",
    "    end\n",
    "    return(subdradient)\n",
    "end "
   ]
  },
  {
   "cell_type": "code",
   "execution_count": 129,
   "metadata": {},
   "outputs": [
    {
     "data": {
      "text/plain": [
       "cutting_plane (generic function with 1 method)"
      ]
     },
     "execution_count": 129,
     "metadata": {},
     "output_type": "execute_result"
    }
   ],
   "source": [
    "function cutting_plane(λ, ϵ, X, y, k)\n",
    "    n,d = size(X)\n",
    "    γ_t, g_t, t = 0, 0, 0\n",
    "    z_t = zeros(d)\n",
    "    \n",
    "    model = Model(solver = GurobiSolver(TimeLimit = 60, OutputFlag = 0, gurobi_env))\n",
    "    @variable(model, z[1:d], Bin)\n",
    "    @variable(model, γ)\n",
    "    @objective(model, Min,  γ)\n",
    "    @constraint(model, sum(z[i] for i=1:d) <= k)\n",
    "\n",
    "    while γ_t < g_t + ϵ\n",
    "        # Add a new constraint\n",
    "        subgradient = convert(Matrix, subgradient_g(y, X, z_t, λ)')\n",
    "        @constraint(model, g(y, X, z_t, λ)[1] + sum(subgradient[i]*(z[i] - z_t[i]) for i= 1:d) <= γ)\n",
    "        \n",
    "        # Resolve the optimization problem\n",
    "        sol = solve(model)\n",
    "        γ_t = getobjectivevalue(model)\n",
    "        z_t = getvalue(z)\n",
    "        t += 1\n",
    "    end\n",
    "    return (z)\n",
    "end"
   ]
  },
  {
   "cell_type": "markdown",
   "metadata": {},
   "source": [
    "## Autres essais"
   ]
  },
  {
   "cell_type": "code",
   "execution_count": 127,
   "metadata": {},
   "outputs": [
    {
     "ename": "BoundsError",
     "evalue": "BoundsError: attempt to access 2-element Array{Int64,1} at index [3]",
     "output_type": "error",
     "traceback": [
      "BoundsError: attempt to access 2-element Array{Int64,1} at index [3]",
      "",
      "Stacktrace:",
      " [1] getindex(::Array{Int64,1}, ::Int64) at ./array.jl:728",
      " [2] g(::Array{Int64,2}, ::Array{Int64,2}, ::Array{Int64,1}, ::Int64) at /Users/gabriellerappaport/.julia/packages/JuMP/I7whV/src/parseExpr_staged.jl:530",
      " [3] top-level scope at In[127]:6"
     ]
    }
   ],
   "source": [
    "X = [1 1 1; 2 2 2; 3 3 3 ; 4 4 4]\n",
    "y = [1 2 3 4]\n",
    "k = 2\n",
    "λ = 1\n",
    "ϵ = 1"
   ]
  },
  {
   "cell_type": "code",
   "execution_count": 131,
   "metadata": {},
   "outputs": [
    {
     "data": {
      "text/plain": [
       "1×3 Array{Float64,2}:\n",
       " -0.0  -0.0  -0.0"
      ]
     },
     "execution_count": 131,
     "metadata": {},
     "output_type": "execute_result"
    }
   ],
   "source": [
    "X = [1 1 1; 2 2 2; 4 3 5 ; 5 2 6]\n",
    "y = [3 5 6 7]\n",
    "k = 2\n",
    "λ = 1\n",
    "ϵ = 0.1\n",
    "n,d = size(X)\n",
    "z_t = zeros(d)\n",
    "\n",
    "c = convert(Matrix, subgradient_g(y, X, z_t, λ)')\n"
   ]
  },
  {
   "cell_type": "code",
   "execution_count": 86,
   "metadata": {},
   "outputs": [
    {
     "data": {
      "text/plain": [
       "regularized_problem (generic function with 1 method)"
      ]
     },
     "execution_count": 86,
     "metadata": {},
     "output_type": "execute_result"
    }
   ],
   "source": [
    "function regularized_problem(λ, X, y, k, g_z, dg_z, z_t)\n",
    "    n,d = size(X)\n",
    "    model = Model(solver = GurobiSolver(TimeLimit = 60, OutputFlag = 0))\n",
    "    \n",
    "    @variable(model, z[1:d], Bin)\n",
    "    @variable(model, γ)\n",
    "    \n",
    "    @objective(model, Min,  γ)\n",
    "    \n",
    "    @constraint(model, sum(z[i] for i=1:d) <= k)\n",
    "    \n",
    "    for i in 1:size(g_z)\n",
    "        @constraint(model, g_z[i] + dg_z[i,:]'*(z - z_t[i,:]) <= γ)\n",
    "    end\n",
    "        \n",
    "    sol = solve(model)\n",
    "    return (getobjectivevalue(model), getvalue(z))\n",
    "end"
   ]
  },
  {
   "cell_type": "code",
   "execution_count": 87,
   "metadata": {},
   "outputs": [
    {
     "data": {
      "text/plain": [
       "cutting_plane (generic function with 1 method)"
      ]
     },
     "execution_count": 87,
     "metadata": {},
     "output_type": "execute_result"
    }
   ],
   "source": [
    "function cutting_plane(λ, ϵ, X, y, k)\n",
    "    n,d = size(X)\n",
    "    γ_t, g_t, t = 0, 0, 0\n",
    "    z_t = zeros(d)\n",
    "    \n",
    "    g_constraints = []\n",
    "    dg_constraints = []\n",
    "    z_constraints = []\n",
    "    \n",
    "    while γ < gt + ϵ\n",
    "        # Add a new constraint\n",
    "        append!(g_z, g(y, X, z_t, λ)[1])\n",
    "        append!(z_t, z)\n",
    "        append!(dg_z, subgradient_g(y, X, z, λ))\n",
    "        \n",
    "        # Resolve the optimization problem\n",
    "        γ_t, z_t = regularized_problem(λ, X, y, k, g_constraints, dg_constraints, z_constraints)\n",
    "        t += 1\n",
    "    end\n",
    "    return (z)\n",
    "end\n",
    "    "
   ]
  }
 ],
 "metadata": {
  "kernelspec": {
   "display_name": "Julia 1.2.0",
   "language": "julia",
   "name": "julia-1.2"
  },
  "language_info": {
   "file_extension": ".jl",
   "mimetype": "application/julia",
   "name": "julia",
   "version": "1.2.0"
  }
 },
 "nbformat": 4,
 "nbformat_minor": 2
}
